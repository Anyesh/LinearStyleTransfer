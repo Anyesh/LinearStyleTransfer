{
 "cells": [
  {
   "cell_type": "code",
   "execution_count": null,
   "metadata": {},
   "outputs": [],
   "source": []
  },
  {
   "cell_type": "code",
   "execution_count": 1,
   "metadata": {},
   "outputs": [
    {
     "name": "stdout",
     "output_type": "stream",
     "text": [
      "--2020-07-19 04:12:58--  https://docs.google.com/uc?export=download&confirm=Icdi&id=1H9T5rfXGlGCUh04DGkpkMFbVnmscJAbs\n",
      "Resolving docs.google.com (docs.google.com)... 172.217.14.206, 2607:f8b0:400a:801::200e\n",
      "Connecting to docs.google.com (docs.google.com)|172.217.14.206|:443... connected.\n",
      "HTTP request sent, awaiting response... 302 Moved Temporarily\n",
      "Location: https://doc-0g-40-docs.googleusercontent.com/docs/securesc/t3ihqie89obk1pt6u7ppk3chvpnk3b2l/ccrvl8nhnefiesdoaepn3j7ecqmins6o/1595131950000/07702669490336564780/12898853705723001141Z/1H9T5rfXGlGCUh04DGkpkMFbVnmscJAbs?e=download [following]\n",
      "--2020-07-19 04:12:58--  https://doc-0g-40-docs.googleusercontent.com/docs/securesc/t3ihqie89obk1pt6u7ppk3chvpnk3b2l/ccrvl8nhnefiesdoaepn3j7ecqmins6o/1595131950000/07702669490336564780/12898853705723001141Z/1H9T5rfXGlGCUh04DGkpkMFbVnmscJAbs?e=download\n",
      "Resolving doc-0g-40-docs.googleusercontent.com (doc-0g-40-docs.googleusercontent.com)... 172.217.14.225, 2607:f8b0:400a:803::2001\n",
      "Connecting to doc-0g-40-docs.googleusercontent.com (doc-0g-40-docs.googleusercontent.com)|172.217.14.225|:443... connected.\n",
      "HTTP request sent, awaiting response... 302 Found\n",
      "Location: https://docs.google.com/nonceSigner?nonce=95t34togohu9c&continue=https://doc-0g-40-docs.googleusercontent.com/docs/securesc/t3ihqie89obk1pt6u7ppk3chvpnk3b2l/ccrvl8nhnefiesdoaepn3j7ecqmins6o/1595131950000/07702669490336564780/12898853705723001141Z/1H9T5rfXGlGCUh04DGkpkMFbVnmscJAbs?e%3Ddownload&hash=1fk5qp5pokb00tho6im4h9vqqaf1ukgl [following]\n",
      "--2020-07-19 04:12:58--  https://docs.google.com/nonceSigner?nonce=95t34togohu9c&continue=https://doc-0g-40-docs.googleusercontent.com/docs/securesc/t3ihqie89obk1pt6u7ppk3chvpnk3b2l/ccrvl8nhnefiesdoaepn3j7ecqmins6o/1595131950000/07702669490336564780/12898853705723001141Z/1H9T5rfXGlGCUh04DGkpkMFbVnmscJAbs?e%3Ddownload&hash=1fk5qp5pokb00tho6im4h9vqqaf1ukgl\n",
      "Connecting to docs.google.com (docs.google.com)|172.217.14.206|:443... connected.\n",
      "HTTP request sent, awaiting response... 302 Found\n",
      "Location: https://doc-0g-40-docs.googleusercontent.com/docs/securesc/t3ihqie89obk1pt6u7ppk3chvpnk3b2l/ccrvl8nhnefiesdoaepn3j7ecqmins6o/1595131950000/07702669490336564780/12898853705723001141Z/1H9T5rfXGlGCUh04DGkpkMFbVnmscJAbs?e=download&nonce=95t34togohu9c&user=12898853705723001141Z&hash=8tagvtm1k3d5pubtjobsab1oipkrl73c [following]\n",
      "--2020-07-19 04:12:58--  https://doc-0g-40-docs.googleusercontent.com/docs/securesc/t3ihqie89obk1pt6u7ppk3chvpnk3b2l/ccrvl8nhnefiesdoaepn3j7ecqmins6o/1595131950000/07702669490336564780/12898853705723001141Z/1H9T5rfXGlGCUh04DGkpkMFbVnmscJAbs?e=download&nonce=95t34togohu9c&user=12898853705723001141Z&hash=8tagvtm1k3d5pubtjobsab1oipkrl73c\n",
      "Connecting to doc-0g-40-docs.googleusercontent.com (doc-0g-40-docs.googleusercontent.com)|172.217.14.225|:443... connected.\n",
      "HTTP request sent, awaiting response... 200 OK\n",
      "Length: unspecified [application/zip]\n",
      "Saving to: ‘models.zip’\n",
      "\n",
      "models.zip              [        <=>         ] 105.96M  50.3MB/s    in 2.1s    \n",
      "\n",
      "2020-07-19 04:13:01 (50.3 MB/s) - ‘models.zip’ saved [111107662]\n",
      "\n"
     ]
    }
   ],
   "source": [
    "!wget --load-cookies /tmp/cookies.txt \"https://docs.google.com/uc?export=download&confirm=$(wget --quiet --save-cookies /tmp/cookies.txt --keep-session-cookies --no-check-certificate 'https://docs.google.com/uc?export=download&id=1H9T5rfXGlGCUh04DGkpkMFbVnmscJAbs' -O- | sed -rn 's/.*confirm=([0-9A-Za-z_]+).*/\\1\\n/p')&id=1H9T5rfXGlGCUh04DGkpkMFbVnmscJAbs\" -O models.zip && rm -rf /tmp/cookies.txt"
   ]
  },
  {
   "cell_type": "code",
   "execution_count": 3,
   "metadata": {},
   "outputs": [
    {
     "name": "stdout",
     "output_type": "stream",
     "text": [
      "Archive:  models.zip\n",
      "replace models/vgg_r51.pth? [y]es, [n]o, [A]ll, [N]one, [r]ename: ^C\n"
     ]
    }
   ],
   "source": [
    "!unzip models.zip"
   ]
  },
  {
   "cell_type": "code",
   "execution_count": 1,
   "metadata": {},
   "outputs": [
    {
     "name": "stdout",
     "output_type": "stream",
     "text": [
      "Collecting opencv-contrib-python\n",
      "  Downloading opencv_contrib_python-4.3.0.36-cp37-cp37m-manylinux2014_x86_64.whl (49.9 MB)\n",
      "\u001b[K     |████████████████████████████████| 49.9 MB 283 kB/s eta 0:00:01\n",
      "\u001b[?25hRequirement already satisfied: numpy>=1.14.5 in /usr/local/lib/python3.7/dist-packages (from opencv-contrib-python) (1.16.4)\n",
      "Installing collected packages: opencv-contrib-python\n",
      "Successfully installed opencv-contrib-python-4.3.0.36\n"
     ]
    }
   ],
   "source": [
    "!pip install opencv-contrib-python"
   ]
  },
  {
   "cell_type": "code",
   "execution_count": 3,
   "metadata": {},
   "outputs": [
    {
     "name": "stdout",
     "output_type": "stream",
     "text": [
      "----------------- Options ---------------\n",
      "                batchSize: 1                             \n",
      "              contentPath: /spell/LinearStyleTransfer/test\n",
      "                     cuda: True                          \n",
      "              decoder_dir: models/dec_r31.pth            \n",
      "                 fineSize: 256                           \n",
      "                    layer: r31                           \n",
      "                 loadSize: 256                           \n",
      "               matrixPath: models/r31.pth                \n",
      "                     outf: /spell/LinearStyleTransfer/outputs\n",
      "                stylePath: data/style/                   \n",
      "                  vgg_dir: models/vgg_r31.pth            \n",
      "----------------- End -------------------\n",
      "Transferred image saved at /spell/LinearStyleTransfer/outputsandreea-pop-V32AcJFktGQ-unsplash_27.png\n",
      "Transferred image saved at /spell/LinearStyleTransfer/outputsandreea-pop-V32AcJFktGQ-unsplash_3314.png\n",
      "Transferred image saved at /spell/LinearStyleTransfer/outputsandreea-pop-V32AcJFktGQ-unsplash_Characteristics-and-style-of-Cubism.png\n",
      "Transferred image saved at /spell/LinearStyleTransfer/outputsandreea-pop-V32AcJFktGQ-unsplash_antimonocromatismo.png\n",
      "Transferred image saved at /spell/LinearStyleTransfer/outputsandreea-pop-V32AcJFktGQ-unsplash_in2.png\n",
      "Transferred image saved at /spell/LinearStyleTransfer/outputsandreea-pop-V32AcJFktGQ-unsplash_picasso_self_portrait.png\n",
      "Transferred image saved at /spell/LinearStyleTransfer/outputsandreea-pop-V32AcJFktGQ-unsplash_sketch.png\n",
      "Transferred image saved at /spell/LinearStyleTransfer/outputsimg_1_27.png\n",
      "Transferred image saved at /spell/LinearStyleTransfer/outputsimg_1_3314.png\n",
      "Transferred image saved at /spell/LinearStyleTransfer/outputsimg_1_Characteristics-and-style-of-Cubism.png\n",
      "Transferred image saved at /spell/LinearStyleTransfer/outputsimg_1_antimonocromatismo.png\n",
      "Transferred image saved at /spell/LinearStyleTransfer/outputsimg_1_in2.png\n",
      "Transferred image saved at /spell/LinearStyleTransfer/outputsimg_1_picasso_self_portrait.png\n",
      "Transferred image saved at /spell/LinearStyleTransfer/outputsimg_1_sketch.png\n",
      "Transferred image saved at /spell/LinearStyleTransfer/outputsoleg-ivanov-YcOpd3zftxE-unsplash_27.png\n",
      "Transferred image saved at /spell/LinearStyleTransfer/outputsoleg-ivanov-YcOpd3zftxE-unsplash_3314.png\n",
      "Transferred image saved at /spell/LinearStyleTransfer/outputsoleg-ivanov-YcOpd3zftxE-unsplash_Characteristics-and-style-of-Cubism.png\n",
      "Transferred image saved at /spell/LinearStyleTransfer/outputsoleg-ivanov-YcOpd3zftxE-unsplash_antimonocromatismo.png\n",
      "Transferred image saved at /spell/LinearStyleTransfer/outputsoleg-ivanov-YcOpd3zftxE-unsplash_in2.png\n",
      "Transferred image saved at /spell/LinearStyleTransfer/outputsoleg-ivanov-YcOpd3zftxE-unsplash_picasso_self_portrait.png\n",
      "Transferred image saved at /spell/LinearStyleTransfer/outputsoleg-ivanov-YcOpd3zftxE-unsplash_sketch.png\n"
     ]
    }
   ],
   "source": [
    "!python TestArtistic.py --vgg_dir models/vgg_r31.pth --decoder_dir models/dec_r31.pth --matrixPath models/r31.pth --layer r31 --contentPath /spell/LinearStyleTransfer/test --outf /spell/LinearStyleTransfer/outputs"
   ]
  },
  {
   "cell_type": "code",
   "execution_count": 13,
   "metadata": {},
   "outputs": [
    {
     "name": "stdout",
     "output_type": "stream",
     "text": [
      "ffmpeg version 3.4.6-0ubuntu0.18.04.1 Copyright (c) 2000-2019 the FFmpeg developers\n",
      "  built with gcc 7 (Ubuntu 7.3.0-16ubuntu3)\n",
      "  configuration: --prefix=/usr --extra-version=0ubuntu0.18.04.1 --toolchain=hardened --libdir=/usr/lib/x86_64-linux-gnu --incdir=/usr/include/x86_64-linux-gnu --enable-gpl --disable-stripping --enable-avresample --enable-avisynth --enable-gnutls --enable-ladspa --enable-libass --enable-libbluray --enable-libbs2b --enable-libcaca --enable-libcdio --enable-libflite --enable-libfontconfig --enable-libfreetype --enable-libfribidi --enable-libgme --enable-libgsm --enable-libmp3lame --enable-libmysofa --enable-libopenjpeg --enable-libopenmpt --enable-libopus --enable-libpulse --enable-librubberband --enable-librsvg --enable-libshine --enable-libsnappy --enable-libsoxr --enable-libspeex --enable-libssh --enable-libtheora --enable-libtwolame --enable-libvorbis --enable-libvpx --enable-libwavpack --enable-libwebp --enable-libx265 --enable-libxml2 --enable-libxvid --enable-libzmq --enable-libzvbi --enable-omx --enable-openal --enable-opengl --enable-sdl2 --enable-libdc1394 --enable-libdrm --enable-libiec61883 --enable-chromaprint --enable-frei0r --enable-libopencv --enable-libx264 --enable-shared\n",
      "  libavutil      55. 78.100 / 55. 78.100\n",
      "  libavcodec     57.107.100 / 57.107.100\n",
      "  libavformat    57. 83.100 / 57. 83.100\n",
      "  libavdevice    57. 10.100 / 57. 10.100\n",
      "  libavfilter     6.107.100 /  6.107.100\n",
      "  libavresample   3.  7.  0 /  3.  7.  0\n",
      "  libswscale      4.  8.100 /  4.  8.100\n",
      "  libswresample   2.  9.100 /  2.  9.100\n",
      "  libpostproc    54.  7.100 / 54.  7.100\n",
      "Input #0, mov,mp4,m4a,3gp,3g2,mj2, from '/spell/LinearStyleTransfer/test_videos/night.mp4':\n",
      "  Metadata:\n",
      "    major_brand     : isom\n",
      "    minor_version   : 512\n",
      "    compatible_brands: isomiso2avc1mp41iso5\n",
      "  Duration: 00:00:17.83, start: 0.000000, bitrate: 2047 kb/s\n",
      "    Stream #0:0(und): Video: h264 (Main) (avc1 / 0x31637661), yuv420p, 598x720 [SAR 1:1 DAR 299:360], 2044 kb/s, SAR 32767:32766 DAR 18659:22465, 30 fps, 30 tbr, 3k tbn, 60 tbc (default)\n",
      "    Metadata:\n",
      "      handler_name    : Bento4 Video Handler\n",
      "Stream mapping:\n",
      "  Stream #0:0 -> #0:0 (h264 (native) -> png (native))\n",
      "Press [q] to stop, [?] for help\n",
      "Output #0, image2, to './test_videos/frames/+%03d.png':\n",
      "  Metadata:\n",
      "    major_brand     : isom\n",
      "    minor_version   : 512\n",
      "    compatible_brands: isomiso2avc1mp41iso5\n",
      "    encoder         : Lavf57.83.100\n",
      "    Stream #0:0(und): Video: png, rgb24, 598x720 [SAR 32767:32766 DAR 18659:22465], q=1-1, 200 kb/s, 1 fps, 1 tbn, 1 tbc (default)\n",
      "    Metadata:\n",
      "      handler_name    : Bento4 Video Handler\n",
      "      encoder         : Lavc57.107.100 png\n",
      "frame=   19 fps=0.0 q=-0.0 Lsize=N/A time=00:00:19.00 bitrate=N/A dup=0 drop=516 speed=20.4x    \n",
      "video:10644kB audio:0kB subtitle:0kB other streams:0kB global headers:0kB muxing overhead: unknown\n"
     ]
    }
   ],
   "source": [
    "!ffmpeg -i /spell/LinearStyleTransfer/test_videos/night.mp4 -r 1 -q:v 1 -qmin 1 -qmax 1 './test_videos/frames/'+$night%03d.png"
   ]
  },
  {
   "cell_type": "code",
   "execution_count": 11,
   "metadata": {},
   "outputs": [],
   "source": [
    "# !unzip /spell/LinearStyleTransfer/test_videos/frames.zip"
   ]
  },
  {
   "cell_type": "code",
   "execution_count": null,
   "metadata": {},
   "outputs": [],
   "source": []
  },
  {
   "cell_type": "code",
   "execution_count": 14,
   "metadata": {},
   "outputs": [
    {
     "name": "stdout",
     "output_type": "stream",
     "text": [
      "----------------- Options ---------------\n",
      "              content_dir: /spell/LinearStyleTransfer/test_videos/frames/\n",
      "                     cuda: True                          \n",
      "              decoder_dir: models/dec_r31.pth            \n",
      "                 fineSize: 512                           \n",
      "                    layer: r31                           \n",
      "                 loadSize: 512                           \n",
      "               matrix_dir: models/r31.pth                \n",
      "                     name: transferred_video             \n",
      "                     outf: /spell/LinearStyleTransfer/outputs\n",
      "                    style: /spell/LinearStyleTransfer/data/style/27.jpg\n",
      "                  vgg_dir: models/vgg_r31.pth            \n",
      "----------------- End -------------------\n",
      "/usr/local/lib/python3.7/dist-packages/torchvision/transforms/transforms.py:210: UserWarning: The use of the transforms.Scale transform is deprecated, please use transforms.Resize instead.\n",
      "  warnings.warn(\"The use of the transforms.Scale transform is deprecated, \" +\n",
      "Transfer frame 0...\n",
      "Transfer frame 1...\n",
      "Transfer frame 2...\n",
      "Transfer frame 3...\n",
      "Transfer frame 4...\n",
      "Transfer frame 5...\n",
      "Transfer frame 6...\n",
      "Transfer frame 7...\n",
      "Transfer frame 8...\n",
      "Transfer frame 9...\n",
      "Transfer frame 10...\n",
      "Transfer frame 11...\n",
      "Transfer frame 12...\n",
      "Transfer frame 13...\n",
      "Transfer frame 14...\n",
      "Transfer frame 15...\n",
      "Transfer frame 16...\n",
      "Transfer frame 17...\n",
      "Transfer frame 18...\n",
      "Stack transferred frames back to video...\n",
      "Transferred video saved at /spell/LinearStyleTransfer/outputs.\n"
     ]
    }
   ],
   "source": [
    "!python TestVideo.py --content_dir /spell/LinearStyleTransfer/test_videos/frames/ --outf /spell/LinearStyleTransfer/outputs --style /spell/LinearStyleTransfer/data/style/27.jpg"
   ]
  },
  {
   "cell_type": "code",
   "execution_count": 18,
   "metadata": {},
   "outputs": [
    {
     "name": "stdout",
     "output_type": "stream",
     "text": [
      "----------------- Options ---------------\n",
      "              content_dir: /spell/LinearStyleTransfer/test_videos/frames/\n",
      "                     cuda: True                          \n",
      "              decoder_dir: models/dec_r31.pth            \n",
      "                 fineSize: 512                           \n",
      "                    layer: r31                           \n",
      "                 loadSize: 512                           \n",
      "               matrix_dir: models/r31.pth                \n",
      "                     name: transferred_video             \n",
      "                     outf: /spell/LinearStyleTransfer/outputs\n",
      "                    style: /spell/LinearStyleTransfer/data/style/27.jpg\n",
      "                  vgg_dir: models/vgg_r31.pth            \n",
      "----------------- End -------------------\n",
      "/usr/local/lib/python3.7/dist-packages/torchvision/transforms/transforms.py:210: UserWarning: The use of the transforms.Scale transform is deprecated, please use transforms.Resize instead.\n",
      "  warnings.warn(\"The use of the transforms.Scale transform is deprecated, \" +\n",
      "Transfer frame 0...\n",
      "Transfer frame 1...\n",
      "Transfer frame 2...\n",
      "Transfer frame 3...\n",
      "Transfer frame 4...\n",
      "Transfer frame 5...\n",
      "Transfer frame 6...\n",
      "Transfer frame 7...\n",
      "Transfer frame 8...\n",
      "Transfer frame 9...\n",
      "Transfer frame 10...\n",
      "Transfer frame 11...\n",
      "Transfer frame 12...\n",
      "Transfer frame 13...\n",
      "Transfer frame 14...\n",
      "Transfer frame 15...\n",
      "Transfer frame 16...\n",
      "Transfer frame 17...\n",
      "Transfer frame 18...\n",
      "Stack transferred frames back to video...\n",
      "Transferred video saved at /spell/LinearStyleTransfer/outputs.\n"
     ]
    }
   ],
   "source": [
    "!python TestVideo.py --content_dir /spell/LinearStyleTransfer/test_videos/frames/ --outf /spell/LinearStyleTransfer/outputs --style /spell/LinearStyleTransfer/data/style/27.jpg"
   ]
  },
  {
   "cell_type": "code",
   "execution_count": null,
   "metadata": {},
   "outputs": [],
   "source": []
  }
 ],
 "metadata": {
  "kernelspec": {
   "display_name": "Python 3",
   "language": "python",
   "name": "python3"
  },
  "language_info": {
   "codemirror_mode": {
    "name": "ipython",
    "version": 3
   },
   "file_extension": ".py",
   "mimetype": "text/x-python",
   "name": "python",
   "nbconvert_exporter": "python",
   "pygments_lexer": "ipython3",
   "version": "3.7.8"
  }
 },
 "nbformat": 4,
 "nbformat_minor": 4
}
